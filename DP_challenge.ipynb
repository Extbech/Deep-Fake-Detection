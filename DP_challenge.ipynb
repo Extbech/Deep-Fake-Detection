{
 "cells": [
  {
   "attachments": {},
   "cell_type": "markdown",
   "metadata": {},
   "source": [
    "## Deep Fake Detection Challenge"
   ]
  },
  {
   "attachments": {},
   "cell_type": "markdown",
   "metadata": {},
   "source": [
    "### Data Processing"
   ]
  },
  {
   "attachments": {},
   "cell_type": "markdown",
   "metadata": {},
   "source": [
    "##### Imports"
   ]
  },
  {
   "cell_type": "code",
   "execution_count": 1,
   "metadata": {},
   "outputs": [
    {
     "name": "stderr",
     "output_type": "stream",
     "text": [
      "2023-04-11 16:16:16.753821: I tensorflow/core/platform/cpu_feature_guard.cc:193] This TensorFlow binary is optimized with oneAPI Deep Neural Network Library (oneDNN) to use the following CPU instructions in performance-critical operations:  AVX2 FMA\n",
      "To enable them in other operations, rebuild TensorFlow with the appropriate compiler flags.\n"
     ]
    }
   ],
   "source": [
    "import os\n",
    "import pandas as pd\n",
    "import tensorflow as tf\n",
    "from tensorflow import keras\n",
    "from keras import layers\n",
    "import matplotlib.pyplot as plt\n",
    "import numpy as np\n",
    "import cv2\n",
    "from typing import Tuple\n",
    "from model2D import *\n",
    "from model3D import *"
   ]
  },
  {
   "attachments": {},
   "cell_type": "markdown",
   "metadata": {},
   "source": [
    "##### Data Description"
   ]
  },
  {
   "cell_type": "code",
   "execution_count": 2,
   "metadata": {},
   "outputs": [
    {
     "name": "stdout",
     "output_type": "stream",
     "text": [
      "Train Videoes: 401\n",
      "Test Vidoes: 400\n"
     ]
    }
   ],
   "source": [
    "train_videoes = \"data/train_sample_videos\"\n",
    "test_videos = \"data/test_videos\"\n",
    "\n",
    "print(f\"Train Videoes: {len(os.listdir(train_videoes))}\\nTest Vidoes: {len(os.listdir(test_videos))}\")"
   ]
  },
  {
   "cell_type": "code",
   "execution_count": 3,
   "metadata": {},
   "outputs": [
    {
     "data": {
      "text/plain": [
       "['aagfhgtpmv.mp4',\n",
       " 'aapnvogymq.mp4',\n",
       " 'abarnvbtwb.mp4',\n",
       " 'abofeumbvv.mp4',\n",
       " 'abqwwspghj.mp4',\n",
       " 'acifjvzvpm.mp4',\n",
       " 'acqfdwsrhi.mp4',\n",
       " 'acxnxvbsxk.mp4',\n",
       " 'acxwigylke.mp4',\n",
       " 'aczrgyricp.mp4',\n",
       " 'adhsbajydo.mp4',\n",
       " 'adohikbdaz.mp4',\n",
       " 'adylbeequz.mp4',\n",
       " 'aelfnikyqj.mp4',\n",
       " 'aelzhcnwgf.mp4',\n",
       " 'aettqgevhz.mp4',\n",
       " 'aevrfsexku.mp4',\n",
       " 'afoovlsmtx.mp4',\n",
       " 'agdkmztvby.mp4',\n",
       " 'agqphdxmwt.mp4',\n",
       " 'agrmhtjdlk.mp4',\n",
       " 'ahbweevwpv.mp4',\n",
       " 'ahdbuwqxit.mp4',\n",
       " 'ahfazfbntc.mp4',\n",
       " 'ahqqqilsxt.mp4',\n",
       " 'aipfdnwpoo.mp4',\n",
       " 'ajqslcypsw.mp4',\n",
       " 'ajwpjhrbcv.mp4',\n",
       " 'aklqzsddfl.mp4',\n",
       " 'aknbdpmgua.mp4',\n",
       " 'aknmpoonls.mp4',\n",
       " 'akvmwkdyuv.mp4',\n",
       " 'akxoopqjqz.mp4',\n",
       " 'akzbnazxtz.mp4',\n",
       " 'aladcziidp.mp4',\n",
       " 'alaijyygdv.mp4',\n",
       " 'alninxcyhg.mp4',\n",
       " 'altziddtxi.mp4',\n",
       " 'alvgwypubw.mp4',\n",
       " 'amaivqofda.mp4',\n",
       " 'amowujxmzc.mp4',\n",
       " 'andaxzscny.mp4',\n",
       " 'aneclqfpbt.mp4',\n",
       " 'anpuvshzoo.mp4',\n",
       " 'aorjvbyxhw.mp4',\n",
       " 'apatcsqejh.mp4',\n",
       " 'apgjqzkoma.mp4',\n",
       " 'apogckdfrz.mp4',\n",
       " 'aqpnvjhuzw.mp4',\n",
       " 'arkroixhey.mp4',\n",
       " 'arlmiizoob.mp4',\n",
       " 'arrhsnjqku.mp4',\n",
       " 'asaxgevnnp.mp4',\n",
       " 'asdpeebotb.mp4',\n",
       " 'aslsvlvpth.mp4',\n",
       " 'asmpfjfzif.mp4',\n",
       " 'asvcrfdpnq.mp4',\n",
       " 'atkdltyyen.mp4',\n",
       " 'atvmxvwyns.mp4',\n",
       " 'atxvxouljq.mp4',\n",
       " 'atyntldecu.mp4',\n",
       " 'atzdznmder.mp4',\n",
       " 'aufmsmnoye.mp4',\n",
       " 'augtsuxpzc.mp4',\n",
       " 'avfitoutyn.mp4',\n",
       " 'avgiuextiz.mp4',\n",
       " 'avibnnhwhp.mp4',\n",
       " 'avmjormvsx.mp4',\n",
       " 'avnqydkqjj.mp4',\n",
       " 'avssvvsdhz.mp4',\n",
       " 'avtycwsgyb.mp4',\n",
       " 'avvdgsennp.mp4',\n",
       " 'avywawptfc.mp4',\n",
       " 'awhmfnnjih.mp4',\n",
       " 'awnwkrqibf.mp4',\n",
       " 'awukslzjra.mp4',\n",
       " 'axczxisdtb.mp4',\n",
       " 'axntxmycwd.mp4',\n",
       " 'axoygtekut.mp4',\n",
       " 'axwgcsyphv.mp4',\n",
       " 'axwovszumc.mp4',\n",
       " 'aybgughjxh.mp4',\n",
       " 'aybumesmpk.mp4',\n",
       " 'ayqvfdhslr.mp4',\n",
       " 'aytzyidmgs.mp4',\n",
       " 'azpuxunqyo.mp4',\n",
       " 'azsmewqghg.mp4',\n",
       " 'bahdpoesir.mp4',\n",
       " 'bbhpvrmbse.mp4',\n",
       " 'bbhtdfuqxq.mp4',\n",
       " 'bbvgxeczei.mp4',\n",
       " 'bchnbulevv.mp4',\n",
       " 'bctvsmddgq.mp4',\n",
       " 'bdbhekrrwo.mp4',\n",
       " 'bddjdhzfze.mp4',\n",
       " 'bdgipnyobr.mp4',\n",
       " 'bdnaqemxmr.mp4',\n",
       " 'bdxuhamuqx.mp4',\n",
       " 'beboztfcme.mp4',\n",
       " 'bejhvclboh.mp4',\n",
       " 'benmsfzfaz.mp4',\n",
       " 'beyebyhrph.mp4',\n",
       " 'bffwsjxghk.mp4',\n",
       " 'bgaogsjehq.mp4',\n",
       " 'bggsurpgpr.mp4',\n",
       " 'bghphrsfxf.mp4',\n",
       " 'bgmlwsoamc.mp4',\n",
       " 'bguwlyazau.mp4',\n",
       " 'bgvhtpzknn.mp4',\n",
       " 'bgwmmujlmc.mp4',\n",
       " 'bhaaboftbc.mp4',\n",
       " 'bhbdugnurr.mp4',\n",
       " 'bhpwpydzpo.mp4',\n",
       " 'bhsluedavd.mp4',\n",
       " 'bilnggbxgu.mp4',\n",
       " 'bjjbwsqjir.mp4',\n",
       " 'bjkmjilrxp.mp4',\n",
       " 'bjsmaqefoi.mp4',\n",
       " 'bkmdzhfzfh.mp4',\n",
       " 'bkvetcojbt.mp4',\n",
       " 'bkwxhglwct.mp4',\n",
       " 'blpchvmhxx.mp4',\n",
       " 'blzydqdfem.mp4',\n",
       " 'bmbbkwmxqj.mp4',\n",
       " 'bmehkyanbj.mp4',\n",
       " 'bmhvktyiwp.mp4',\n",
       " 'bmioepcpsx.mp4',\n",
       " 'bmjmjmbglm.mp4',\n",
       " 'bmjzrlszhi.mp4',\n",
       " 'bnbuonyoje.mp4',\n",
       " 'bndybcqhfr.mp4',\n",
       " 'bnjcdrfuov.mp4',\n",
       " 'bntlodcfeg.mp4',\n",
       " 'bofqajtwve.mp4',\n",
       " 'boovltmuwi.mp4',\n",
       " 'bopqhhalml.mp4',\n",
       " 'bourlmzsio.mp4',\n",
       " 'bpapbctoao.mp4',\n",
       " 'bpwzipqtxf.mp4',\n",
       " 'bpxckdzddv.mp4',\n",
       " 'bqdjzqhcft.mp4',\n",
       " 'bqeiblbxtl.mp4',\n",
       " 'bqhtpqmmqp.mp4',\n",
       " 'bqkdbcqjvb.mp4',\n",
       " 'bqnymlsayl.mp4',\n",
       " 'bqqpbzjgup.mp4',\n",
       " 'bqtuuwzdtr.mp4',\n",
       " 'brhalypwoo.mp4',\n",
       " 'brvqtabyxj.mp4',\n",
       " 'brwrlczjvi.mp4',\n",
       " 'bseamdrpbj.mp4',\n",
       " 'bsfmwclnqy.mp4',\n",
       " 'bsqgziaylx.mp4',\n",
       " 'btiysiskpf.mp4',\n",
       " 'btjlfpzbdu.mp4',\n",
       " 'btjwbtsgln.mp4',\n",
       " 'btmsngnqhv.mp4',\n",
       " 'btohlidmru.mp4',\n",
       " 'btugrnoton.mp4',\n",
       " 'btunxncpjh.mp4',\n",
       " 'btxlttbpkj.mp4',\n",
       " 'bulkxhhknf.mp4',\n",
       " 'bvgwelbeof.mp4',\n",
       " 'bvzjkezkms.mp4',\n",
       " 'bweezhfpzp.mp4',\n",
       " 'bwhlgysghg.mp4',\n",
       " 'bwipwzzxxu.mp4',\n",
       " 'bwuwstvsbw.mp4',\n",
       " 'bxzakyopjf.mp4',\n",
       " 'bydaidkpdp.mp4',\n",
       " 'byfenovjnf.mp4',\n",
       " 'byijojkdba.mp4',\n",
       " 'byofowlkki.mp4',\n",
       " 'byqzyxifza.mp4',\n",
       " 'byunigvnay.mp4',\n",
       " 'byyqectxqa.mp4',\n",
       " 'bzmdrafeex.mp4',\n",
       " 'bzythlfnhq.mp4',\n",
       " 'caifxvsozs.mp4',\n",
       " 'caqbrkogkb.mp4',\n",
       " 'cbbibzcoih.mp4',\n",
       " 'cbltdtxglo.mp4',\n",
       " 'ccfoszqabv.mp4',\n",
       " 'ccmonzqfrz.mp4',\n",
       " 'cdaxixbosp.mp4',\n",
       " 'cdbsbdymzd.mp4',\n",
       " 'cdphtzqrvp.mp4',\n",
       " 'cdyakrxkia.mp4',\n",
       " 'cepxysienc.mp4',\n",
       " 'cettndmvzl.mp4',\n",
       " 'ceymbecxnj.mp4',\n",
       " 'cferslmfwh.mp4',\n",
       " 'cffffbcywc.mp4',\n",
       " 'cfxkpiweqt.mp4',\n",
       " 'cfyduhpbps.mp4',\n",
       " 'cglxirfaey.mp4',\n",
       " 'cgvrgibpfo.mp4',\n",
       " 'chtapglbcj.mp4',\n",
       " 'chviwxsfhg.mp4',\n",
       " 'chzieimrwu.mp4',\n",
       " 'ciyoudyhly.mp4',\n",
       " 'cizlkenljw.mp4',\n",
       " 'ckbdwedgmc.mp4',\n",
       " 'ckjaibzfxa.mp4',\n",
       " 'ckkuyewywx.mp4',\n",
       " 'cknyxaqouy.mp4',\n",
       " 'cksanfsjhc.mp4',\n",
       " 'clihsshdkq.mp4',\n",
       " 'clrycekyst.mp4',\n",
       " 'cmbzllswnl.mp4',\n",
       " 'cmxcfkrjiv.mp4',\n",
       " 'cnilkgvfei.mp4',\n",
       " 'coadfnerlk.mp4',\n",
       " 'cobjrlugvp.mp4',\n",
       " 'covdcysmbi.mp4',\n",
       " 'cpjxareypw.mp4',\n",
       " 'cppdvdejkc.mp4',\n",
       " 'cprhtltsjp.mp4',\n",
       " 'cqfugiqupm.mp4',\n",
       " 'cqhngvpgyi.mp4',\n",
       " 'cqrskwiqng.mp4',\n",
       " 'crezycjqyk.mp4',\n",
       " 'crktehraph.mp4',\n",
       " 'crzfebnfgb.mp4',\n",
       " 'cthdnahrkh.mp4',\n",
       " 'ctpqeykqdp.mp4',\n",
       " 'cttqtsjvgn.mp4',\n",
       " 'ctzmavwror.mp4',\n",
       " 'curpwogllm.mp4',\n",
       " 'cuzrgrbvil.mp4',\n",
       " 'cvaksbpssm.mp4',\n",
       " 'cwbacdwrzo.mp4',\n",
       " 'cwqlvzefpg.mp4',\n",
       " 'cwrtyzndpx.mp4',\n",
       " 'cwsbspfzck.mp4',\n",
       " 'cwwandrkus.mp4',\n",
       " 'cxfujlvsuw.mp4',\n",
       " 'cxrfacemmq.mp4',\n",
       " 'cxttmymlbn.mp4',\n",
       " 'cyboodqqyr.mp4',\n",
       " 'cycacemkmt.mp4',\n",
       " 'cyclgfjdrv.mp4',\n",
       " 'cyxlcuyznd.mp4',\n",
       " 'czfunozvwp.mp4',\n",
       " 'czkdanyadc.mp4',\n",
       " 'czmqpxrqoh.mp4',\n",
       " 'dafhtipaml.mp4',\n",
       " 'dakiztgtnw.mp4',\n",
       " 'dakqwktlbi.mp4',\n",
       " 'dbhoxkblzx.mp4',\n",
       " 'dbhrpizyeq.mp4',\n",
       " 'dbnygxtwek.mp4',\n",
       " 'dboxtiehng.mp4',\n",
       " 'dbtbbhakdv.mp4',\n",
       " 'dbzcqmxzaj.mp4',\n",
       " 'dbzpcjntve.mp4',\n",
       " 'dcamvmuors.mp4',\n",
       " 'dcuiiorugd.mp4',\n",
       " 'ddepeddixj.mp4',\n",
       " 'ddhfabwpuz.mp4',\n",
       " 'ddjggcasdw.mp4',\n",
       " 'ddpvuimigj.mp4',\n",
       " 'ddqccgmtka.mp4',\n",
       " 'degpbqvcay.mp4',\n",
       " 'deywhkarol.mp4',\n",
       " 'deyyistcrd.mp4',\n",
       " 'dfbpceeaox.mp4',\n",
       " 'dgmevclvzy.mp4',\n",
       " 'dgxrqjdomn.mp4',\n",
       " 'dgzklxjmix.mp4',\n",
       " 'dhcndnuwta.mp4',\n",
       " 'dhcselezer.mp4',\n",
       " 'dhevettufk.mp4',\n",
       " 'dhjmzhrcav.mp4',\n",
       " 'dhkwmjxwrn.mp4',\n",
       " 'dhoqofwoxa.mp4',\n",
       " 'dhxctgyoqj.mp4',\n",
       " 'diomeixhrg.mp4',\n",
       " 'diopzaywor.mp4',\n",
       " 'diqraixiov.mp4',\n",
       " 'diuzrpqjli.mp4',\n",
       " 'djvtbgwdcc.mp4',\n",
       " 'djvutyvaio.mp4',\n",
       " 'djxdyjopjd.mp4',\n",
       " 'dkdwxmtpuo.mp4',\n",
       " 'dkhlttuvmx.mp4',\n",
       " 'dkrvorliqc.mp4',\n",
       " 'dkuayagnmc.mp4',\n",
       " 'dkwjwbwgey.mp4',\n",
       " 'dkzvdrzcnr.mp4',\n",
       " 'dlpoieqvfb.mp4',\n",
       " 'dlrsbscitn.mp4',\n",
       " 'dnexlwbcxq.mp4',\n",
       " 'dnhvalzvrt.mp4',\n",
       " 'dntkzzzcdh.mp4',\n",
       " 'dnyvfblxpm.mp4',\n",
       " 'doanjploai.mp4',\n",
       " 'dofusvhnib.mp4',\n",
       " 'dozyddhild.mp4',\n",
       " 'dptbnjnkdg.mp4',\n",
       " 'dptrzdvwpg.mp4',\n",
       " 'dqnyszdong.mp4',\n",
       " 'dqppxmoqdl.mp4',\n",
       " 'dqqtjcryjv.mp4',\n",
       " 'dqswpjoepo.mp4',\n",
       " 'dqzreruvje.mp4',\n",
       " 'drcyabprvt.mp4',\n",
       " 'drgjzlxzxj.mp4',\n",
       " 'drsakwyvqv.mp4',\n",
       " 'drtbksnpol.mp4',\n",
       " 'dsdoseflas.mp4',\n",
       " 'dsgpbgsrdm.mp4',\n",
       " 'dsjbknkujw.mp4',\n",
       " 'dsndhujjjb.mp4',\n",
       " 'dtbpmdqvao.mp4',\n",
       " 'dtocdfbwca.mp4',\n",
       " 'dubiroskqn.mp4',\n",
       " 'dulanfulol.mp4',\n",
       " 'duvyaxbzvp.mp4',\n",
       " 'duycddgtrl.mp4',\n",
       " 'duzuusuajr.mp4',\n",
       " 'dvakowbgbt.mp4',\n",
       " 'dvumqqhoac.mp4',\n",
       " 'dwediigjit.mp4',\n",
       " 'dxbqjxrhin.mp4',\n",
       " 'dxuliowugt.mp4',\n",
       " 'dxuplhwvig.mp4',\n",
       " 'dzieklokdr.mp4',\n",
       " 'dzqwgqewhu.mp4',\n",
       " 'dzvyfiarrq.mp4',\n",
       " 'dzwkmcwkwl.mp4',\n",
       " 'dzyuwjkjui.mp4',\n",
       " 'eahlqmfvtj.mp4',\n",
       " 'eajlrktemq.mp4',\n",
       " 'ebchwmwayp.mp4',\n",
       " 'ebebgmtlcu.mp4',\n",
       " 'ebeknhudxq.mp4',\n",
       " 'ebkzwjgjhq.mp4',\n",
       " 'ebywfrmhtd.mp4',\n",
       " 'eckvhdusax.mp4',\n",
       " 'ecnihjlfyt.mp4',\n",
       " 'ecujsjhscd.mp4',\n",
       " 'ecuvtoltue.mp4',\n",
       " 'ecwaxgutkc.mp4',\n",
       " 'eczrseixwq.mp4',\n",
       " 'edyncaijwx.mp4',\n",
       " 'eebrkicpry.mp4',\n",
       " 'eebserckhh.mp4',\n",
       " 'eejswgycjc.mp4',\n",
       " 'eekozbeafq.mp4',\n",
       " 'eepezmygaq.mp4',\n",
       " 'eeyhxisdfh.mp4',\n",
       " 'efdyrflcpg.mp4',\n",
       " 'efwfxwwlbw.mp4',\n",
       " 'egbbcxcuqy.mp4',\n",
       " 'eggbjzxnmg.mp4',\n",
       " 'egghxjjmfg.mp4',\n",
       " 'ehbnclaukr.mp4',\n",
       " 'ehccixxzoe.mp4',\n",
       " 'ehdkmxgtxh.mp4',\n",
       " 'ehevsxtecd.mp4',\n",
       " 'ehfiekigla.mp4',\n",
       " 'ehieahnhte.mp4',\n",
       " 'ehtdtkmmli.mp4',\n",
       " 'eiriyukqqy.mp4',\n",
       " 'eivxffliio.mp4',\n",
       " 'eiwopxzjfn.mp4',\n",
       " 'eixwxvxbbn.mp4',\n",
       " 'ejkqesyvam.mp4',\n",
       " 'ekcrtigpab.mp4',\n",
       " 'ekhacizpah.mp4',\n",
       " 'ekkdjkirzq.mp4',\n",
       " 'elginszwtk.mp4',\n",
       " 'ellavthztb.mp4',\n",
       " 'elvvackpjh.mp4',\n",
       " 'emaalmsonj.mp4',\n",
       " 'emfbhytfhc.mp4',\n",
       " 'emgjphonqb.mp4',\n",
       " 'ensyyivobf.mp4',\n",
       " 'eoewqcpbgt.mp4',\n",
       " 'eprybmbpba.mp4',\n",
       " 'epymyyiblu.mp4',\n",
       " 'eqjscdagiv.mp4',\n",
       " 'eqnoqyfquo.mp4',\n",
       " 'eqvuznuwsa.mp4',\n",
       " 'erlvuvjsjf.mp4',\n",
       " 'erqgqacbqe.mp4',\n",
       " 'errocgcham.mp4',\n",
       " 'esckbnkkvb.mp4',\n",
       " 'esgftaficx.mp4',\n",
       " 'esnntzzajv.mp4',\n",
       " 'esxrvsgpvb.mp4',\n",
       " 'esyhwdfnxs.mp4',\n",
       " 'esyrimvzsa.mp4',\n",
       " 'etdcqxabww.mp4',\n",
       " 'etejaapnxh.mp4',\n",
       " 'etmcruaihe.mp4',\n",
       " 'etohcvnzbj.mp4',\n",
       " 'eudeqjhdfd.mp4',\n",
       " 'eukvucdetx.mp4']"
      ]
     },
     "execution_count": 3,
     "metadata": {},
     "output_type": "execute_result"
    }
   ],
   "source": [
    "meta_data = pd.read_json(train_videoes+\"/metadata.json\").T\n",
    "meta_data.head()\n",
    "labels_col =meta_data[\"label\"].to_list()\n",
    "paths_col = meta_data.index.to_list()\n",
    "paths_col"
   ]
  },
  {
   "cell_type": "code",
   "execution_count": 4,
   "metadata": {},
   "outputs": [],
   "source": [
    "def visualize_real_vs_fake(class_count: list) -> None:\n",
    "    plt.pie(class_count, labels=[\"Real Videos\", \"Deep Fake Videos\"], autopct='%.2f%%',\n",
    "       wedgeprops={'linewidth': 2.5, 'edgecolor': 'white'},\n",
    "       textprops={'size': 'large', 'fontweight': 'bold'})\n",
    "    plt.title(\"Proportion of Real vs Deep Fake videos in the training dataset.\", fontdict={'fontweight': 'bold'})\n",
    "    plt.legend([f\"Real Videos Count: {class_count[0]}\", f\"Deep Fake Videos Count: {class_count[1]}\"], bbox_to_anchor=(0.5, 0.05), bbox_transform=plt.gcf().transFigure, loc=\"lower center\", prop={'weight':'bold'})\n",
    "    plt.savefig(\"images/pie_chart_class_proportions.jpg\")\n",
    "    plt.show()"
   ]
  },
  {
   "cell_type": "code",
   "execution_count": 5,
   "metadata": {},
   "outputs": [
    {
     "data": {
      "image/png": "[encoded data removed]",
      "text/plain": [
       "<Figure size 640x480 with 1 Axes>"
      ]
     },
     "metadata": {},
     "output_type": "display_data"
    }
   ],
   "source": [
    "label_count_series = meta_data[\"label\"].value_counts()\n",
    "fake_count = label_count_series[\"FAKE\"]\n",
    "real_count = label_count_series[\"REAL\"]\n",
    "\n",
    "visualize_real_vs_fake([real_count, fake_count])"
   ]
  },
  {
   "attachments": {},
   "cell_type": "markdown",
   "metadata": {},
   "source": [
    "Quite skewed dataset. Might want to consider upsampling of real classes"
   ]
  },
  {
   "cell_type": "code",
   "execution_count": 6,
   "metadata": {},
   "outputs": [
    {
     "name": "stdout",
     "output_type": "stream",
     "text": [
      "data/train_sample_videos/aagfhgtpmv.mp4\n",
      "301\n",
      "data/train_sample_videos/aapnvogymq.mp4\n",
      "301\n",
      "data/train_sample_videos/abarnvbtwb.mp4\n",
      "301\n",
      "data/train_sample_videos/abofeumbvv.mp4\n",
      "301\n",
      "data/train_sample_videos/abqwwspghj.mp4\n",
      "301\n",
      "data/train_sample_videos/acifjvzvpm.mp4\n",
      "301\n",
      "data/train_sample_videos/acqfdwsrhi.mp4\n",
      "301\n",
      "data/train_sample_videos/acxnxvbsxk.mp4\n",
      "301\n",
      "data/train_sample_videos/aczrgyricp.mp4\n",
      "301\n",
      "data/train_sample_videos/adhsbajydo.mp4\n",
      "301\n"
     ]
    }
   ],
   "source": [
    "def get_frames_v1(paths: list, frames_each_video: int, video_amount: int) -> list:\n",
    "    video_array = []\n",
    "    frames_to_skip = 299/frames_each_video\n",
    "    for idx, path in enumerate(paths): # bedre me enumerate her?\n",
    "        if idx == video_amount:\n",
    "            break\n",
    "        print(path)\n",
    "        vc = cv2.VideoCapture(path)\n",
    "        video = []\n",
    "        i = 0\n",
    "        while vc.isOpened():\n",
    "            i += 1\n",
    "            ret, frame = vc.read()\n",
    "            \n",
    "            if ret and frame is not None:\n",
    "                if i % frames_to_skip != 0:\n",
    "                    continue\n",
    "                if frame.shape[0] == 1920:\n",
    "                    frame = frame.transpose(1, 0, 2)\n",
    "                frame = cv2.resize(frame, (1280, 720))\n",
    "                frame = cv2.cvtColor(frame, cv2.COLOR_BGR2RGB)\n",
    "                if frame is None:\n",
    "                    continue\n",
    "                video.append(frame)\n",
    "            else:\n",
    "                print(i)\n",
    "                vc.release()\n",
    "                break\n",
    "        video_array.append(np.array(video))  \n",
    "    return np.array(video_array)\n",
    "\n",
    "training_videos_sample = os.listdir(train_videoes)\n",
    "sample_file_names = training_videos_sample.copy()\n",
    "complete_paths = []\n",
    "for i in range(len(training_videos_sample)):\n",
    "    if training_videos_sample[i].endswith('mp4'):\n",
    "        complete_paths.append(train_videoes+\"/\"+training_videos_sample[i])\n",
    "complete_paths.sort()\n",
    "complete_paths.remove(\"data/train_sample_videos/acxwigylke.mp4\")\n",
    "video_array = get_frames_v1(paths=complete_paths, frames_each_video=1, video_amount=10)\n"
   ]
  },
  {
   "cell_type": "code",
   "execution_count": 7,
   "metadata": {},
   "outputs": [
    {
     "name": "stdout",
     "output_type": "stream",
     "text": [
      "[[[[155 157 152]\n",
      "   [154 156 151]\n",
      "   [153 155 150]\n",
      "   ...\n",
      "   [143 143 140]\n",
      "   [143 143 140]\n",
      "   [143 143 140]]\n",
      "\n",
      "  [[155 157 152]\n",
      "   [155 157 152]\n",
      "   [154 156 151]\n",
      "   ...\n",
      "   [143 143 140]\n",
      "   [143 143 140]\n",
      "   [143 143 140]]\n",
      "\n",
      "  [[154 156 151]\n",
      "   [154 156 151]\n",
      "   [154 156 151]\n",
      "   ...\n",
      "   [143 143 140]\n",
      "   [143 143 140]\n",
      "   [143 143 140]]\n",
      "\n",
      "  ...\n",
      "\n",
      "  [[ 32  34  34]\n",
      "   [ 34  36  36]\n",
      "   [ 38  40  40]\n",
      "   ...\n",
      "   [125 135 144]\n",
      "   [125 135 143]\n",
      "   [125 135 143]]\n",
      "\n",
      "  [[ 34  36  36]\n",
      "   [ 35  37  37]\n",
      "   [ 39  41  41]\n",
      "   ...\n",
      "   [125 135 144]\n",
      "   [125 135 143]\n",
      "   [125 135 143]]\n",
      "\n",
      "  [[ 35  37  37]\n",
      "   [ 36  38  38]\n",
      "   [ 40  42  42]\n",
      "   ...\n",
      "   [125 135 144]\n",
      "   [125 135 143]\n",
      "   [125 135 143]]]]\n",
      "[[[[241 227 202]\n",
      "   [243 229 204]\n",
      "   [243 229 204]\n",
      "   ...\n",
      "   [252 246 223]\n",
      "   [252 246 223]\n",
      "   [251 245 222]]\n",
      "\n",
      "  [[242 228 203]\n",
      "   [244 230 205]\n",
      "   [244 230 205]\n",
      "   ...\n",
      "   [252 246 223]\n",
      "   [252 246 223]\n",
      "   [251 245 222]]\n",
      "\n",
      "  [[243 229 204]\n",
      "   [245 231 206]\n",
      "   [246 232 207]\n",
      "   ...\n",
      "   [252 246 223]\n",
      "   [252 246 223]\n",
      "   [251 245 222]]\n",
      "\n",
      "  ...\n",
      "\n",
      "  [[201 158 135]\n",
      "   [208 163 139]\n",
      "   [209 162 136]\n",
      "   ...\n",
      "   [211 198 191]\n",
      "   [209 196 189]\n",
      "   [208 195 188]]\n",
      "\n",
      "  [[200 154 131]\n",
      "   [205 159 133]\n",
      "   [208 160 133]\n",
      "   ...\n",
      "   [210 197 191]\n",
      "   [209 196 190]\n",
      "   [208 195 189]]\n",
      "\n",
      "  [[197 151 125]\n",
      "   [205 158 129]\n",
      "   [211 161 131]\n",
      "   ...\n",
      "   [211 198 193]\n",
      "   [209 196 191]\n",
      "   [208 195 190]]]]\n"
     ]
    }
   ],
   "source": [
    "print(video_array[7])\n",
    "print(video_array[8])"
   ]
  },
  {
   "cell_type": "code",
   "execution_count": 8,
   "metadata": {},
   "outputs": [
    {
     "name": "stdout",
     "output_type": "stream",
     "text": [
      "(10, 1, 720, 1280, 3)\n"
     ]
    }
   ],
   "source": [
    "print(video_array.shape)"
   ]
  },
  {
   "cell_type": "code",
   "execution_count": 9,
   "metadata": {},
   "outputs": [],
   "source": [
    "labels_col.pop(8)\n",
    "y = [0 if val!=\"FAKE\" else 1 for val in labels_col ]\n",
    "y =np.array(y)\n"
   ]
  },
  {
   "cell_type": "code",
   "execution_count": 10,
   "metadata": {},
   "outputs": [
    {
     "name": "stdout",
     "output_type": "stream",
     "text": [
      "Amount of Videos: 10\n",
      "Frames for videos: [1, 1, 1, 1, 1, 1, 1, 1, 1, 1]\n"
     ]
    }
   ],
   "source": [
    "print(f\"Amount of Videos: {len(video_array)}\")\n",
    "print(f\"Frames for videos: {[len(video_array[i]) for i in range(len(video_array))]}\")"
   ]
  },
  {
   "cell_type": "code",
   "execution_count": 11,
   "metadata": {},
   "outputs": [
    {
     "data": {
      "image/png": "[encoded data removed]",
      "text/plain": [
       "<Figure size 3000x500 with 1 Axes>"
      ]
     },
     "metadata": {},
     "output_type": "display_data"
    }
   ],
   "source": [
    "def plot_video(video: list, figsize: tuple, width: int, height: int) -> None:\n",
    "    fig = plt.figure(figsize=figsize)\n",
    "    for i in range(len(video[:(width*height)])):\n",
    "        plt.subplot(width, height, i+1)\n",
    "        plt.imshow(video[i])\n",
    "    plt.show()\n",
    "\n",
    "plot_video(video_array[6], (30,5), 2, 5)"
   ]
  },
  {
   "cell_type": "code",
   "execution_count": 12,
   "metadata": {},
   "outputs": [
    {
     "name": "stdout",
     "output_type": "stream",
     "text": [
      "2\n"
     ]
    },
    {
     "ename": "ValueError",
     "evalue": "perplexity must be less than n_samples",
     "output_type": "error",
     "traceback": [
      "\u001b[0;31m---------------------------------------------------------------------------\u001b[0m",
      "\u001b[0;31mValueError\u001b[0m                                Traceback (most recent call last)",
      "\u001b[1;32m/Users/oledybedokken/Documents/Skole/Dat550 - Datautvinning og dyplæring/Deep-Fake-Detection/DP_challenge.ipynb Cell 17\u001b[0m in \u001b[0;36m<cell line: 9>\u001b[0;34m()\u001b[0m\n\u001b[1;32m      <a href='vscode-notebook-cell:/Users/oledybedokken/Documents/Skole/Dat550%20-%20Datautvinning%20og%20dypl%C3%A6ring/Deep-Fake-Detection/DP_challenge.ipynb#X22sZmlsZQ%3D%3D?line=5'>6</a>\u001b[0m tsne \u001b[39m=\u001b[39m TSNE(n_components\u001b[39m=\u001b[39m\u001b[39m2\u001b[39m, perplexity\u001b[39m=\u001b[39m\u001b[39m10\u001b[39m, random_state\u001b[39m=\u001b[39m\u001b[39m0\u001b[39m)\n\u001b[1;32m      <a href='vscode-notebook-cell:/Users/oledybedokken/Documents/Skole/Dat550%20-%20Datautvinning%20og%20dypl%C3%A6ring/Deep-Fake-Detection/DP_challenge.ipynb#X22sZmlsZQ%3D%3D?line=7'>8</a>\u001b[0m \u001b[39m# Fit t-SNE on the frames array\u001b[39;00m\n\u001b[0;32m----> <a href='vscode-notebook-cell:/Users/oledybedokken/Documents/Skole/Dat550%20-%20Datautvinning%20og%20dypl%C3%A6ring/Deep-Fake-Detection/DP_challenge.ipynb#X22sZmlsZQ%3D%3D?line=8'>9</a>\u001b[0m frames_tsne \u001b[39m=\u001b[39m tsne\u001b[39m.\u001b[39;49mfit_transform(frames_array)\n",
      "File \u001b[0;32m/Library/Frameworks/Python.framework/Versions/3.9/lib/python3.9/site-packages/sklearn/manifold/_t_sne.py:1122\u001b[0m, in \u001b[0;36mTSNE.fit_transform\u001b[0;34m(self, X, y)\u001b[0m\n\u001b[1;32m   1102\u001b[0m \u001b[39mdef\u001b[39;00m \u001b[39mfit_transform\u001b[39m(\u001b[39mself\u001b[39m, X, y\u001b[39m=\u001b[39m\u001b[39mNone\u001b[39;00m):\n\u001b[1;32m   1103\u001b[0m     \u001b[39m\"\"\"Fit X into an embedded space and return that transformed output.\u001b[39;00m\n\u001b[1;32m   1104\u001b[0m \n\u001b[1;32m   1105\u001b[0m \u001b[39m    Parameters\u001b[39;00m\n\u001b[0;32m   (...)\u001b[0m\n\u001b[1;32m   1120\u001b[0m \u001b[39m        Embedding of the training data in low-dimensional space.\u001b[39;00m\n\u001b[1;32m   1121\u001b[0m \u001b[39m    \"\"\"\u001b[39;00m\n\u001b[0;32m-> 1122\u001b[0m     \u001b[39mself\u001b[39;49m\u001b[39m.\u001b[39;49m_check_params_vs_input(X)\n\u001b[1;32m   1123\u001b[0m     embedding \u001b[39m=\u001b[39m \u001b[39mself\u001b[39m\u001b[39m.\u001b[39m_fit(X)\n\u001b[1;32m   1124\u001b[0m     \u001b[39mself\u001b[39m\u001b[39m.\u001b[39membedding_ \u001b[39m=\u001b[39m embedding\n",
      "File \u001b[0;32m/Library/Frameworks/Python.framework/Versions/3.9/lib/python3.9/site-packages/sklearn/manifold/_t_sne.py:793\u001b[0m, in \u001b[0;36mTSNE._check_params_vs_input\u001b[0;34m(self, X)\u001b[0m\n\u001b[1;32m    791\u001b[0m \u001b[39mdef\u001b[39;00m \u001b[39m_check_params_vs_input\u001b[39m(\u001b[39mself\u001b[39m, X):\n\u001b[1;32m    792\u001b[0m     \u001b[39mif\u001b[39;00m \u001b[39mself\u001b[39m\u001b[39m.\u001b[39mperplexity \u001b[39m>\u001b[39m\u001b[39m=\u001b[39m X\u001b[39m.\u001b[39mshape[\u001b[39m0\u001b[39m]:\n\u001b[0;32m--> 793\u001b[0m         \u001b[39mraise\u001b[39;00m \u001b[39mValueError\u001b[39;00m(\u001b[39m\"\u001b[39m\u001b[39mperplexity must be less than n_samples\u001b[39m\u001b[39m\"\u001b[39m)\n",
      "\u001b[0;31mValueError\u001b[0m: perplexity must be less than n_samples"
     ]
    }
   ],
   "source": [
    "from sklearn.manifold import TSNE\n",
    "frames_list = video_array[0]\n",
    "frames_array = np.array([frame.flatten() for frame in frames_list])\n",
    "# Instantiate t-SNE object with desired parameters\n",
    "print(2)\n",
    "tsne = TSNE(n_components=2, perplexity=10, random_state=0)\n",
    "\n",
    "# Fit t-SNE on the frames array\n",
    "frames_tsne = tsne.fit_transform(frames_array)"
   ]
  },
  {
   "cell_type": "code",
   "execution_count": 13,
   "metadata": {},
   "outputs": [
    {
     "ename": "NameError",
     "evalue": "name 'frames_tsne' is not defined",
     "output_type": "error",
     "traceback": [
      "\u001b[0;31m---------------------------------------------------------------------------\u001b[0m",
      "\u001b[0;31mNameError\u001b[0m                                 Traceback (most recent call last)",
      "\u001b[1;32m/Users/oledybedokken/Documents/Skole/Dat550 - Datautvinning og dyplæring/Deep-Fake-Detection/DP_challenge.ipynb Cell 18\u001b[0m in \u001b[0;36m<cell line: 2>\u001b[0;34m()\u001b[0m\n\u001b[1;32m      <a href='vscode-notebook-cell:/Users/oledybedokken/Documents/Skole/Dat550%20-%20Datautvinning%20og%20dypl%C3%A6ring/Deep-Fake-Detection/DP_challenge.ipynb#X23sZmlsZQ%3D%3D?line=0'>1</a>\u001b[0m \u001b[39m# Assuming labels is a list of labels corresponding to each frame\u001b[39;00m\n\u001b[0;32m----> <a href='vscode-notebook-cell:/Users/oledybedokken/Documents/Skole/Dat550%20-%20Datautvinning%20og%20dypl%C3%A6ring/Deep-Fake-Detection/DP_challenge.ipynb#X23sZmlsZQ%3D%3D?line=1'>2</a>\u001b[0m plt\u001b[39m.\u001b[39mscatter(frames_tsne[:,\u001b[39m0\u001b[39m], frames_tsne[:,\u001b[39m1\u001b[39m], c\u001b[39m=\u001b[39m\u001b[39mrange\u001b[39m(\u001b[39m0\u001b[39m,\u001b[39m20\u001b[39m))\n\u001b[1;32m      <a href='vscode-notebook-cell:/Users/oledybedokken/Documents/Skole/Dat550%20-%20Datautvinning%20og%20dypl%C3%A6ring/Deep-Fake-Detection/DP_challenge.ipynb#X23sZmlsZQ%3D%3D?line=2'>3</a>\u001b[0m plt\u001b[39m.\u001b[39mshow()\n",
      "\u001b[0;31mNameError\u001b[0m: name 'frames_tsne' is not defined"
     ]
    }
   ],
   "source": [
    "# Assuming labels is a list of labels corresponding to each frame\n",
    "plt.scatter(frames_tsne[:,0], frames_tsne[:,1], c=range(0,20))\n",
    "plt.show()"
   ]
  },
  {
   "cell_type": "code",
   "execution_count": 14,
   "metadata": {},
   "outputs": [
    {
     "data": {
      "text/plain": [
       "(1, 720, 1280, 3)"
      ]
     },
     "execution_count": 14,
     "metadata": {},
     "output_type": "execute_result"
    }
   ],
   "source": [
    "def format_frames(vid_arr):\n",
    "    flatten_first_video_frame = vid_arr[0][0]\n",
    "    flatten_first_video_frame = flatten_first_video_frame / 255\n",
    "    return np.array([flatten_first_video_frame])\n",
    "first_frame_formatted = format_frames(video_array)\n",
    "first_frame_formatted.shape"
   ]
  },
  {
   "attachments": {},
   "cell_type": "markdown",
   "metadata": {},
   "source": [
    "### BUILD MODEL\n",
    "- Add Layers\n",
    "- Add Loss function, optimizers, and metrics\n",
    "- Compile model and Fit"
   ]
  },
  {
   "cell_type": "code",
   "execution_count": 15,
   "metadata": {},
   "outputs": [
    {
     "name": "stdout",
     "output_type": "stream",
     "text": [
      "Model: \"sequential\"\n",
      "_________________________________________________________________\n",
      " Layer (type)                Output Shape              Param #   \n",
      "=================================================================\n",
      " conv2d (Conv2D)             (None, 720, 1280, 32)     4736      \n",
      "                                                                 \n",
      " max_pooling2d (MaxPooling2D  (None, 240, 426, 32)     0         \n",
      " )                                                               \n",
      "                                                                 \n",
      " conv2d_1 (Conv2D)           (None, 240, 426, 3)       867       \n",
      "                                                                 \n",
      " max_pooling2d_1 (MaxPooling  (None, 80, 142, 3)       0         \n",
      " 2D)                                                             \n",
      "                                                                 \n",
      " conv2d_2 (Conv2D)           (None, 80, 142, 3)        84        \n",
      "                                                                 \n",
      " max_pooling2d_2 (MaxPooling  (None, 26, 47, 3)        0         \n",
      " 2D)                                                             \n",
      "                                                                 \n",
      " flatten (Flatten)           (None, 3666)              0         \n",
      "                                                                 \n",
      " dense (Dense)               (None, 128)               469376    \n",
      "                                                                 \n",
      " dense_1 (Dense)             (None, 2)                 258       \n",
      "                                                                 \n",
      "=================================================================\n"
     ]
    },
    {
     "name": "stderr",
     "output_type": "stream",
     "text": [
      "2023-04-11 16:17:02.532736: I tensorflow/core/platform/cpu_feature_guard.cc:193] This TensorFlow binary is optimized with oneAPI Deep Neural Network Library (oneDNN) to use the following CPU instructions in performance-critical operations:  AVX2 FMA\n",
      "To enable them in other operations, rebuild TensorFlow with the appropriate compiler flags.\n"
     ]
    },
    {
     "name": "stdout",
     "output_type": "stream",
     "text": [
      "Total params: 475,321\n",
      "Trainable params: 475,321\n",
      "Non-trainable params: 0\n",
      "_________________________________________________________________\n"
     ]
    }
   ],
   "source": [
    "model_2D = build_2D_model(first_frame_formatted)\n",
    "model_2D.summary()"
   ]
  },
  {
   "cell_type": "code",
   "execution_count": 16,
   "metadata": {},
   "outputs": [],
   "source": [
    "model_2D = compile_2D_model(model_2D, 0.001)"
   ]
  },
  {
   "cell_type": "code",
   "execution_count": 17,
   "metadata": {},
   "outputs": [
    {
     "data": {
      "text/plain": [
       "(10, 1, 720, 1280, 3)"
      ]
     },
     "execution_count": 17,
     "metadata": {},
     "output_type": "execute_result"
    }
   ],
   "source": [
    "video_array.shape"
   ]
  },
  {
   "cell_type": "code",
   "execution_count": 18,
   "metadata": {},
   "outputs": [
    {
     "name": "stdout",
     "output_type": "stream",
     "text": [
      "Model: \"sequential_1\"\n",
      "_________________________________________________________________\n",
      " Layer (type)                Output Shape              Param #   \n",
      "=================================================================\n",
      " conv3d (Conv3D)             (None, 1, 720, 1280, 32)  2624      \n",
      "                                                                 \n",
      " max_pooling3d (MaxPooling3D  (None, 1, 360, 640, 32)  0         \n",
      " )                                                               \n",
      "                                                                 \n",
      " conv3d_1 (Conv3D)           (None, 1, 360, 640, 3)    2595      \n",
      "                                                                 \n",
      " max_pooling3d_1 (MaxPooling  (None, 1, 180, 320, 3)   0         \n",
      " 3D)                                                             \n",
      "                                                                 \n",
      " conv3d_2 (Conv3D)           (None, 1, 180, 320, 3)    246       \n",
      "                                                                 \n",
      " max_pooling3d_2 (MaxPooling  (None, 1, 90, 160, 3)    0         \n",
      " 3D)                                                             \n",
      "                                                                 \n",
      " flatten_1 (Flatten)         (None, 43200)             0         \n",
      "                                                                 \n",
      " dense_2 (Dense)             (None, 128)               5529728   \n",
      "                                                                 \n",
      " dense_3 (Dense)             (None, 1)                 129       \n",
      "                                                                 \n",
      "=================================================================\n",
      "Total params: 5,535,322\n",
      "Trainable params: 5,535,322\n",
      "Non-trainable params: 0\n",
      "_________________________________________________________________\n"
     ]
    }
   ],
   "source": [
    "model_3D = build_3D_model(video_array)\n",
    "model_3D.summary()"
   ]
  },
  {
   "cell_type": "code",
   "execution_count": 21,
   "metadata": {},
   "outputs": [
    {
     "name": "stdout",
     "output_type": "stream",
     "text": [
      "Epoch 1/5\n",
      "10/10 [==============================] - 51s 5s/step - loss: 10.0198 - accuracy: 0.8000\n",
      "Epoch 2/5\n",
      "10/10 [==============================] - 52s 5s/step - loss: 1.0934 - accuracy: 0.5000\n",
      "Epoch 3/5\n",
      "10/10 [==============================] - 53s 5s/step - loss: 0.5543 - accuracy: 0.9000\n",
      "Epoch 4/5\n",
      "10/10 [==============================] - 51s 5s/step - loss: 0.2722 - accuracy: 0.9000\n",
      "Epoch 5/5\n",
      "10/10 [==============================] - 50s 5s/step - loss: 0.1683 - accuracy: 0.9000\n"
     ]
    },
    {
     "data": {
      "text/plain": [
       "<keras.callbacks.History at 0x7fcbfd75f880>"
      ]
     },
     "execution_count": 21,
     "metadata": {},
     "output_type": "execute_result"
    }
   ],
   "source": [
    "#model_3D = build_3D_model(video_array)\n",
    "model_3D.fit(video_array,y[:10],epochs=5,steps_per_epoch=10)"
   ]
  },
  {
   "cell_type": "code",
   "execution_count": 19,
   "metadata": {},
   "outputs": [],
   "source": [
    "loss = keras.losses.BinaryCrossentropy(from_logits=True)\n",
    "optimizer = keras.optimizers.Adam(learning_rate=0.001)\n",
    "metrics=[\"accuracy\"]\n",
    "model_3D.compile(optimizer=optimizer, loss=loss, metrics=metrics)"
   ]
  }
 ],
 "metadata": {
  "kernelspec": {
   "display_name": "Python 3",
   "language": "python",
   "name": "python3"
  },
  "language_info": {
   "codemirror_mode": {
    "name": "ipython",
    "version": 3
   },
   "file_extension": ".py",
   "mimetype": "text/x-python",
   "name": "python",
   "nbconvert_exporter": "python",
   "pygments_lexer": "ipython3",
   "version": "3.9.12"
  },
  "orig_nbformat": 4,
  "vscode": {
   "interpreter": {
    "hash": "aee8b7b246df8f9039afb4144a1f6fd8d2ca17a180786b69acc140d282b71a49"
   }
  }
 },
 "nbformat": 4,
 "nbformat_minor": 2
}
