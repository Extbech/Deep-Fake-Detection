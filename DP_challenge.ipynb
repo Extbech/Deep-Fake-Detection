{
 "cells": [
  {
   "attachments": {},
   "cell_type": "markdown",
   "metadata": {},
   "source": [
    "## Deep Fake Detection Challenge"
   ]
  },
  {
   "attachments": {},
   "cell_type": "markdown",
   "metadata": {},
   "source": [
    "### Data Processing"
   ]
  },
  {
   "attachments": {},
   "cell_type": "markdown",
   "metadata": {},
   "source": [
    "##### Imports"
   ]
  },
  {
   "cell_type": "code",
   "execution_count": 70,
   "metadata": {},
   "outputs": [],
   "source": [
    "import os\n",
    "import pandas as pd\n",
    "import tensorflow as tf\n",
    "from tensorflow import keras\n",
    "from keras import layers\n",
    "import matplotlib.pyplot as plt\n",
    "import numpy as np\n",
    "import cv2\n",
    "from typing import Tuple\n",
    "from model2D import *\n",
    "#from model3D import *\n",
    "from model3D_small import *\n",
    "import math\n",
    "from sklearn.utils.class_weight import compute_class_weight\n",
    "from keras.utils.np_utils  import to_categorical\n",
    "from sklearn.metrics import classification_report, confusion_matrix, ConfusionMatrixDisplay"
   ]
  },
  {
   "attachments": {},
   "cell_type": "markdown",
   "metadata": {},
   "source": [
    "##### Data Description"
   ]
  },
  {
   "cell_type": "code",
   "execution_count": null,
   "metadata": {},
   "outputs": [],
   "source": [
    "train_videoes = \"data/train_sample_videos\"\n",
    "test_videos = \"data/test_videos\"\n",
    "\n",
    "print(f\"Train Videoes: {len(os.listdir(train_videoes))}\\nTest Vidoes: {len(os.listdir(test_videos))}\")"
   ]
  },
  {
   "cell_type": "code",
   "execution_count": null,
   "metadata": {},
   "outputs": [],
   "source": [
    "meta_data = pd.read_json(train_videoes+\"/metadata.json\").T\n",
    "labels_col =meta_data[\"label\"].to_list()\n",
    "paths_col = meta_data.index.to_list()\n",
    "print(meta_data.head())"
   ]
  },
  {
   "cell_type": "code",
   "execution_count": null,
   "metadata": {},
   "outputs": [],
   "source": [
    "def visualize_real_vs_fake(class_count: list) -> None:\n",
    "    plt.pie(class_count, labels=[\"Real Videos\", \"Deep Fake Videos\"], autopct='%.2f%%',\n",
    "       wedgeprops={'linewidth': 2.5, 'edgecolor': 'white'},\n",
    "       textprops={'size': 'large', 'fontweight': 'bold'})\n",
    "    plt.title(\"Proportion of Real vs Deep Fake videos in the training dataset.\", fontdict={'fontweight': 'bold'})\n",
    "    plt.legend([f\"Real Videos Count: {class_count[0]}\", f\"Deep Fake Videos Count: {class_count[1]}\"], bbox_to_anchor=(0.5, 0.05), bbox_transform=plt.gcf().transFigure, loc=\"lower center\", prop={'weight':'bold'})\n",
    "    plt.savefig(\"images/pie_chart_class_proportions.jpg\")\n",
    "    plt.show()"
   ]
  },
  {
   "cell_type": "code",
   "execution_count": null,
   "metadata": {},
   "outputs": [],
   "source": [
    "label_count_series = meta_data[\"label\"].value_counts()\n",
    "fake_count = label_count_series[\"FAKE\"]\n",
    "real_count = label_count_series[\"REAL\"]\n",
    "\n",
    "visualize_real_vs_fake([real_count, fake_count])"
   ]
  },
  {
   "attachments": {},
   "cell_type": "markdown",
   "metadata": {},
   "source": [
    "Quite skewed dataset. Might want to consider upsampling of real classes"
   ]
  },
  {
   "cell_type": "code",
   "execution_count": 90,
   "metadata": {},
   "outputs": [
    {
     "name": "stderr",
     "output_type": "stream",
     "text": [
      "/var/folders/0b/kp7mjww52gv0qrxc8_6p5dgh0000gn/T/ipykernel_58089/63456889.py:29: VisibleDeprecationWarning: Creating an ndarray from ragged nested sequences (which is a list-or-tuple of lists-or-tuples-or ndarrays with different lengths or shapes) is deprecated. If you meant to do this, you must specify 'dtype=object' when creating the ndarray.\n",
      "  return np.array(video_array_colors)\n"
     ]
    }
   ],
   "source": [
    "def get_frames_v1(paths: list, frames_each_video: int, video_amount: int) -> list:\n",
    "    video_array_colors = []\n",
    "    for idx, path in enumerate(paths): # bedre me enumerate her?\n",
    "        if idx == video_amount:\n",
    "            break\n",
    "        vc = cv2.VideoCapture(path)\n",
    "        frames_to_skip = (int(vc.get(cv2.CAP_PROP_FRAME_COUNT))-1)/frames_each_video\n",
    "        frames_to_skip=math.floor(frames_to_skip)\n",
    "        \"\"\" print(int(vc.get(cv2.CAP_PROP_FRAME_COUNT)))\n",
    "        if(int(vc.get(cv2.CAP_PROP_FRAME_COUNT))!=300):\n",
    "            print(path)\n",
    "            print(int(vc.get(cv2.CAP_PROP_FRAME_COUNT))) \"\"\"\n",
    "        video = []\n",
    "        i = 0\n",
    "        while vc.isOpened():\n",
    "            i += 1\n",
    "            ret, frame = vc.read()\n",
    "            if ret and frame is not None:\n",
    "                if i % frames_to_skip != 0:\n",
    "                    continue\n",
    "                if frame.shape[0] == 1920:\n",
    "                    frame = frame.transpose(1, 0, 2)\n",
    "                frame = cv2.resize(frame, (53, 30))\n",
    "                video.append((cv2.cvtColor(frame, cv2.COLOR_BGR2RGB) / 255))\n",
    "            else:\n",
    "                vc.release()\n",
    "                break\n",
    "        video_array_colors.append(np.array(video))\n",
    "    return np.array(video_array_colors)\n",
    "\n",
    "training_videos_sample = os.listdir(train_videoes)\n",
    "sample_file_names = training_videos_sample.copy()\n",
    "complete_paths = []\n",
    "for path in paths_col:\n",
    "    complete_paths.append(train_videoes+\"/\"+path)\n",
    "complete_paths.sort()\n",
    "vid_arr_col = get_frames_v1(paths=complete_paths, frames_each_video=100, video_amount=70)\n"
   ]
  },
  {
   "cell_type": "code",
   "execution_count": null,
   "metadata": {},
   "outputs": [],
   "source": [
    "print(vid_arr_col.shape)\n",
    "#vid_arr_gray = np.expand_dims(vid_arr_gray, axis=-1)\n",
    "#print(vid_arr_gray.shape)\n",
    "print(vid_arr_col[0][0])"
   ]
  },
  {
   "cell_type": "code",
   "execution_count": null,
   "metadata": {},
   "outputs": [],
   "source": [
    "y = [0 if val!=\"FAKE\" else 1 for val in labels_col ]\n",
    "y =np.array(y)\n",
    "y = to_categorical(y, num_classes=None).astype(int)\n",
    "y"
   ]
  },
  {
   "cell_type": "code",
   "execution_count": null,
   "metadata": {},
   "outputs": [],
   "source": [
    "print(f\"Amount of Videos: {len(vid_arr_col)}\")\n",
    "print(f\"Frames for videos: {[len(vid_arr_col[i]) for i in range(len(vid_arr_col))]}\")"
   ]
  },
  {
   "cell_type": "code",
   "execution_count": null,
   "metadata": {},
   "outputs": [],
   "source": [
    "def plot_video(video: list, figsize: tuple, width: int, height: int) -> None:\n",
    "    fig = plt.figure(figsize=figsize)\n",
    "    for i in range(len(video[:(width*height)])):\n",
    "        plt.subplot(width, height, i+1)\n",
    "        plt.imshow(video[i])\n",
    "    plt.show()\n",
    "\n",
    "plot_video(vid_arr_col[0], (30,5), 2, 5)"
   ]
  },
  {
   "cell_type": "code",
   "execution_count": null,
   "metadata": {},
   "outputs": [],
   "source": [
    "from sklearn.manifold import TSNE\n",
    "frames_list = vid_arr_col[0]\n",
    "frames_array = np.array([frame.flatten() for frame in frames_list])\n",
    "# Instantiate t-SNE object with desired parameters\n",
    "print(2)\n",
    "tsne = TSNE(n_components=2, perplexity=10, random_state=0)\n",
    "\n",
    "# Fit t-SNE on the frames array\n",
    "frames_tsne = tsne.fit_transform(frames_array)"
   ]
  },
  {
   "cell_type": "code",
   "execution_count": null,
   "metadata": {},
   "outputs": [],
   "source": [
    "# Assuming labels is a list of labels corresponding to each frame\n",
    "plt.scatter(frames_tsne[:,0], frames_tsne[:,1], c=range(0,20))\n",
    "plt.show()"
   ]
  },
  {
   "cell_type": "code",
   "execution_count": null,
   "metadata": {},
   "outputs": [],
   "source": [
    "def format_frames(vid_arr):\n",
    "    flatten_first_video_frame = vid_arr[0][0]\n",
    "    flatten_first_video_frame = flatten_first_video_frame / 255\n",
    "    return np.array([flatten_first_video_frame])\n",
    "first_frame_formatted = format_frames(vid_arr_col)\n",
    "first_frame_formatted.shape"
   ]
  },
  {
   "attachments": {},
   "cell_type": "markdown",
   "metadata": {},
   "source": [
    "### BUILD MODEL\n",
    "- Add Layers\n",
    "- Add Loss function, optimizers, and metrics\n",
    "- Compile model and Fit"
   ]
  },
  {
   "cell_type": "code",
   "execution_count": null,
   "metadata": {},
   "outputs": [],
   "source": [
    "weight_class = compute_class_weight(class_weight='balanced',classes=[0,1],y=np.argmax(y, axis=1))\n",
    "class_weights = dict(zip(np.unique(y), weight_class))\n",
    "class_weights"
   ]
  },
  {
   "cell_type": "code",
   "execution_count": null,
   "metadata": {},
   "outputs": [],
   "source": [
    "def build_3D_model(input_data):\n",
    "    model = keras.models.Sequential()\n",
    "    model.add(layers.Conv3D(filters=64, kernel_size=3, padding=\"same\", strides=1, activation=\"relu\", input_shape=input_data.shape[1:]))\n",
    "    model.add(layers.MaxPool3D(pool_size=2, padding=\"same\"))\n",
    "    model.add(layers.Conv3D(filters=32, kernel_size=3, padding=\"same\", activation=\"relu\"))\n",
    "    model.add(layers.MaxPool3D(pool_size=2, padding=\"same\"))\n",
    "    model.add(layers.Conv3D(filters=16, kernel_size=3, padding=\"same\", activation=\"relu\"))\n",
    "    model.add(layers.MaxPool3D(pool_size=2, padding=\"same\"))\n",
    "    model.add(layers.Conv3D(filters=8, kernel_size=3, padding=\"same\", activation=\"relu\"))\n",
    "    model.add(layers.MaxPool3D(pool_size=2, padding=\"same\"))\n",
    "    model.add(layers.Flatten())\n",
    "    model.add(layers.Dense(128, activation=\"relu\"))\n",
    "    model.add(layers.Dense(2 ,activation=\"softmax\"))\n",
    "    return model"
   ]
  },
  {
   "cell_type": "code",
   "execution_count": 52,
   "metadata": {},
   "outputs": [],
   "source": [
    "def test_model(input_data):\n",
    "    model = keras.models.Sequential()\n",
    "    model.add(layers.Conv3D(filters=32, kernel_size=(2,2,2),input_shape=input_data.shape[1:],\n",
    "                activation='relu',\n",
    "                padding='same', data_format='channels_last'))\n",
    "    model.add(layers.BatchNormalization())\n",
    "    model.add(layers.ConvLSTM2D(filters=16, kernel_size=(2, 2),\n",
    "                    padding='same', return_sequences=True))\n",
    "    model.add(layers.BatchNormalization())\n",
    "    model.add(layers.Dropout(0.3))\n",
    "\n",
    "    model.add(layers.MaxPooling3D(pool_size=(2,2,2)))\n",
    "\n",
    "    model.add(layers.ConvLSTM2D(filters=16, kernel_size=(2, 2),\n",
    "                    padding='same', return_sequences=True))\n",
    "    model.add(layers.BatchNormalization())\n",
    "    model.add(layers.Dropout(0.3))\n",
    "\n",
    "\n",
    "\n",
    "    model.add(layers.MaxPooling3D(pool_size=(2,2,2)))\n",
    "    model.add(layers.Flatten())\n",
    "\n",
    "    model.add(layers.BatchNormalization())\n",
    "\n",
    "    model.add(layers.Dense(32,activation='elu'))\n",
    "\n",
    "    model.add(layers.Dense(2,activation='sigmoid'))\n",
    "    return model"
   ]
  },
  {
   "cell_type": "code",
   "execution_count": 53,
   "metadata": {},
   "outputs": [
    {
     "name": "stdout",
     "output_type": "stream",
     "text": [
      "Model: \"sequential_6\"\n",
      "_________________________________________________________________\n",
      " Layer (type)                Output Shape              Param #   \n",
      "=================================================================\n",
      " conv3d_15 (Conv3D)          (None, 10, 30, 53, 32)    800       \n",
      "                                                                 \n",
      " batch_normalization_12 (Bat  (None, 10, 30, 53, 32)   128       \n",
      " chNormalization)                                                \n",
      "                                                                 \n",
      " conv_lstm2d_6 (ConvLSTM2D)  (None, 10, 30, 53, 16)    12352     \n",
      "                                                                 \n",
      " batch_normalization_13 (Bat  (None, 10, 30, 53, 16)   64        \n",
      " chNormalization)                                                \n",
      "                                                                 \n",
      " dropout_6 (Dropout)         (None, 10, 30, 53, 16)    0         \n",
      "                                                                 \n",
      " max_pooling3d_18 (MaxPoolin  (None, 5, 15, 26, 16)    0         \n",
      " g3D)                                                            \n",
      "                                                                 \n",
      " conv_lstm2d_7 (ConvLSTM2D)  (None, 5, 15, 26, 16)     8256      \n",
      "                                                                 \n",
      " batch_normalization_14 (Bat  (None, 5, 15, 26, 16)    64        \n",
      " chNormalization)                                                \n",
      "                                                                 \n",
      " dropout_7 (Dropout)         (None, 5, 15, 26, 16)     0         \n",
      "                                                                 \n",
      " max_pooling3d_19 (MaxPoolin  (None, 2, 7, 13, 16)     0         \n",
      " g3D)                                                            \n",
      "                                                                 \n",
      " flatten_6 (Flatten)         (None, 2912)              0         \n",
      "                                                                 \n",
      " batch_normalization_15 (Bat  (None, 2912)             11648     \n",
      " chNormalization)                                                \n",
      "                                                                 \n",
      " dense_12 (Dense)            (None, 32)                93216     \n",
      "                                                                 \n",
      " dense_13 (Dense)            (None, 2)                 66        \n",
      "                                                                 \n",
      "=================================================================\n",
      "Total params: 126,594\n",
      "Trainable params: 120,642\n",
      "Non-trainable params: 5,952\n",
      "_________________________________________________________________\n"
     ]
    }
   ],
   "source": [
    "test_m = test_model(vid_arr_col)\n",
    "test_m.summary()"
   ]
  },
  {
   "cell_type": "code",
   "execution_count": 54,
   "metadata": {},
   "outputs": [],
   "source": [
    "loss = \"binary_crossentropy\"\n",
    "optimizer = \"adam\"\n",
    "metrics=[\"accuracy\"]\n",
    "test_m.compile(optimizer=optimizer, loss=loss, metrics=metrics)"
   ]
  },
  {
   "cell_type": "code",
   "execution_count": 78,
   "metadata": {},
   "outputs": [
    {
     "name": "stdout",
     "output_type": "stream",
     "text": [
      "Epoch 1/10\n",
      "10/10 - 41s - loss: 0.3420 - accuracy: 0.8600 - 41s/epoch - 4s/step\n",
      "Epoch 2/10\n",
      "10/10 - 32s - loss: 0.3546 - accuracy: 0.7900 - 32s/epoch - 3s/step\n",
      "Epoch 3/10\n",
      "10/10 - 28s - loss: 0.4746 - accuracy: 0.8400 - 28s/epoch - 3s/step\n",
      "Epoch 4/10\n",
      "10/10 - 28s - loss: 0.3243 - accuracy: 0.8200 - 28s/epoch - 3s/step\n",
      "Epoch 5/10\n",
      "10/10 - 29s - loss: 0.2610 - accuracy: 0.8500 - 29s/epoch - 3s/step\n",
      "Epoch 6/10\n",
      "10/10 - 28s - loss: 0.3257 - accuracy: 0.8700 - 28s/epoch - 3s/step\n",
      "Epoch 7/10\n",
      "10/10 - 28s - loss: 0.2385 - accuracy: 0.9000 - 28s/epoch - 3s/step\n",
      "Epoch 8/10\n",
      "10/10 - 28s - loss: 0.2795 - accuracy: 0.8800 - 28s/epoch - 3s/step\n",
      "Epoch 9/10\n",
      "10/10 - 28s - loss: 0.3425 - accuracy: 0.8500 - 28s/epoch - 3s/step\n",
      "Epoch 10/10\n",
      "10/10 - 29s - loss: 0.2842 - accuracy: 0.8700 - 29s/epoch - 3s/step\n"
     ]
    },
    {
     "data": {
      "text/plain": [
       "<keras.callbacks.History at 0x7fdf40182d90>"
      ]
     },
     "execution_count": 78,
     "metadata": {},
     "output_type": "execute_result"
    }
   ],
   "source": [
    "test_m.fit(vid_arr_col, y[:vid_arr_col.shape[0]],epochs=10, batch_size=10, verbose=2, class_weight=class_weights)"
   ]
  },
  {
   "cell_type": "code",
   "execution_count": 79,
   "metadata": {},
   "outputs": [
    {
     "name": "stdout",
     "output_type": "stream",
     "text": [
      "4/4 [==============================] - 8s 2s/step\n"
     ]
    }
   ],
   "source": [
    "pred_y = test_m.predict(vid_arr_col)"
   ]
  },
  {
   "cell_type": "code",
   "execution_count": 80,
   "metadata": {},
   "outputs": [
    {
     "data": {
      "text/plain": [
       "array([[0.5452956 , 0.58010143],\n",
       "       [0.69432515, 0.5103222 ],\n",
       "       [0.6898619 , 0.5498576 ],\n",
       "       [0.5672844 , 0.5502688 ],\n",
       "       [0.4724289 , 0.67823744],\n",
       "       [0.6684107 , 0.51984555],\n",
       "       [0.5200045 , 0.56388307],\n",
       "       [0.47418377, 0.75669813],\n",
       "       [0.72182727, 0.32549965],\n",
       "       [0.6517231 , 0.47415045],\n",
       "       [0.5708572 , 0.54916346],\n",
       "       [0.8069315 , 0.40341088],\n",
       "       [0.44861883, 0.73705006],\n",
       "       [0.7271262 , 0.6431659 ],\n",
       "       [0.47014728, 0.6755512 ],\n",
       "       [0.6798664 , 0.67255026],\n",
       "       [0.45384347, 0.7337148 ],\n",
       "       [0.79489064, 0.5132833 ],\n",
       "       [0.470556  , 0.596708  ],\n",
       "       [0.6411012 , 0.5683278 ],\n",
       "       [0.72784674, 0.35633662],\n",
       "       [0.6141314 , 0.6496532 ],\n",
       "       [0.4730532 , 0.72429895],\n",
       "       [0.6476595 , 0.4716566 ],\n",
       "       [0.67235714, 0.6917969 ],\n",
       "       [0.67030287, 0.38449252],\n",
       "       [0.736177  , 0.42107755],\n",
       "       [0.52425   , 0.57936275],\n",
       "       [0.56352276, 0.553846  ],\n",
       "       [0.5896071 , 0.6118345 ],\n",
       "       [0.5667336 , 0.60006577],\n",
       "       [0.52912265, 0.5634136 ],\n",
       "       [0.65427995, 0.52177674],\n",
       "       [0.5595888 , 0.60574627],\n",
       "       [0.7282391 , 0.3418432 ],\n",
       "       [0.7217643 , 0.33459657],\n",
       "       [0.7468552 , 0.57660085],\n",
       "       [0.6539508 , 0.52262574],\n",
       "       [0.73758197, 0.53818727],\n",
       "       [0.5300641 , 0.56805843],\n",
       "       [0.47675094, 0.6939497 ],\n",
       "       [0.5704981 , 0.5496619 ],\n",
       "       [0.69646454, 0.69071686],\n",
       "       [0.7158162 , 0.5555208 ],\n",
       "       [0.6469179 , 0.68969357],\n",
       "       [0.54383785, 0.6308246 ],\n",
       "       [0.4848161 , 0.67031246],\n",
       "       [0.64391935, 0.6116671 ],\n",
       "       [0.46711385, 0.73241735],\n",
       "       [0.47360805, 0.7567228 ],\n",
       "       [0.6552906 , 0.5221942 ],\n",
       "       [0.44996893, 0.60544986],\n",
       "       [0.6210732 , 0.46312755],\n",
       "       [0.55615   , 0.5604743 ],\n",
       "       [0.63045096, 0.5837621 ],\n",
       "       [0.581505  , 0.51344115],\n",
       "       [0.5275925 , 0.6004862 ],\n",
       "       [0.7047705 , 0.42994314],\n",
       "       [0.5677614 , 0.55101645],\n",
       "       [0.5367511 , 0.6414255 ],\n",
       "       [0.6535735 , 0.54815346],\n",
       "       [0.59195435, 0.63996994],\n",
       "       [0.5594038 , 0.6066063 ],\n",
       "       [0.565604  , 0.6796967 ],\n",
       "       [0.6522908 , 0.54862833],\n",
       "       [0.4196898 , 0.6611626 ],\n",
       "       [0.69436294, 0.5112079 ],\n",
       "       [0.6826724 , 0.7155548 ],\n",
       "       [0.47372165, 0.6982181 ],\n",
       "       [0.6094838 , 0.6070259 ],\n",
       "       [0.5502375 , 0.55679214],\n",
       "       [0.5689989 , 0.5516918 ],\n",
       "       [0.47949576, 0.7453565 ],\n",
       "       [0.47888452, 0.7511264 ],\n",
       "       [0.6321869 , 0.5658737 ],\n",
       "       [0.6802335 , 0.7027215 ],\n",
       "       [0.65512764, 0.5224515 ],\n",
       "       [0.6159732 , 0.35547304],\n",
       "       [0.71537966, 0.351017  ],\n",
       "       [0.56967974, 0.55224043],\n",
       "       [0.73310566, 0.4385453 ],\n",
       "       [0.6853091 , 0.6781707 ],\n",
       "       [0.6139143 , 0.4757898 ],\n",
       "       [0.58083665, 0.5142175 ],\n",
       "       [0.64150006, 0.57050157],\n",
       "       [0.45535222, 0.7319059 ],\n",
       "       [0.6325335 , 0.58199304],\n",
       "       [0.6710228 , 0.5641819 ],\n",
       "       [0.65260196, 0.44375846],\n",
       "       [0.5420742 , 0.69939303],\n",
       "       [0.5713792 , 0.54997826],\n",
       "       [0.61450344, 0.47410756],\n",
       "       [0.64776754, 0.7513252 ],\n",
       "       [0.5007223 , 0.59414184],\n",
       "       [0.7008373 , 0.5535133 ],\n",
       "       [0.6680679 , 0.43612006],\n",
       "       [0.6108481 , 0.41230637],\n",
       "       [0.70373607, 0.4377135 ],\n",
       "       [0.73269784, 0.32566312],\n",
       "       [0.5810634 , 0.51950794]], dtype=float32)"
      ]
     },
     "execution_count": 80,
     "metadata": {},
     "output_type": "execute_result"
    }
   ],
   "source": [
    "pred_y"
   ]
  },
  {
   "cell_type": "code",
   "execution_count": 82,
   "metadata": {},
   "outputs": [
    {
     "name": "stdout",
     "output_type": "stream",
     "text": [
      "              precision    recall  f1-score   support\n",
      "\n",
      "           0      0.288     0.895     0.436        19\n",
      "           1      0.951     0.481     0.639        81\n",
      "\n",
      "    accuracy                          0.560       100\n",
      "   macro avg      0.620     0.688     0.538       100\n",
      "weighted avg      0.825     0.560     0.601       100\n",
      "\n"
     ]
    }
   ],
   "source": [
    "actual_y = np.argmax(y[:vid_arr_col.shape[0]], axis=1)\n",
    "pred_y = np.argmax(pred_y, axis=1)\n",
    "print(classification_report(actual_y, pred_y, digits=3))"
   ]
  },
  {
   "cell_type": "code",
   "execution_count": 83,
   "metadata": {},
   "outputs": [
    {
     "data": {
      "text/plain": [
       "41"
      ]
     },
     "execution_count": 83,
     "metadata": {},
     "output_type": "execute_result"
    }
   ],
   "source": [
    "pred_y.sum()"
   ]
  },
  {
   "cell_type": "code",
   "execution_count": 84,
   "metadata": {},
   "outputs": [
    {
     "data": {
      "text/plain": [
       "array([1, 1, 0, 1, 1, 1, 1, 1, 1, 1, 1, 1, 1, 0, 1, 1, 1, 0, 1, 1, 0, 1,\n",
       "       1, 1, 0, 1, 0, 1, 1, 1, 1, 1, 1, 1, 1, 1, 1, 1, 1, 1, 1, 1, 1, 0,\n",
       "       1, 1, 1, 1, 1, 1, 1, 1, 0, 1, 1, 1, 1, 0, 0, 1, 1, 1, 1, 1, 1, 1,\n",
       "       1, 0, 1, 1, 1, 1, 1, 1, 1, 1, 1, 0, 1, 1, 1, 0, 0, 1, 0, 1, 1, 1,\n",
       "       1, 1, 1, 1, 1, 1, 0, 1, 0, 1, 0, 0])"
      ]
     },
     "execution_count": 84,
     "metadata": {},
     "output_type": "execute_result"
    }
   ],
   "source": [
    "actual_y"
   ]
  },
  {
   "cell_type": "code",
   "execution_count": 85,
   "metadata": {},
   "outputs": [],
   "source": [
    "cfm = confusion_matrix(actual_y, pred_y)"
   ]
  },
  {
   "cell_type": "code",
   "execution_count": 86,
   "metadata": {},
   "outputs": [
    {
     "data": {
      "text/plain": [
       "<sklearn.metrics._plot.confusion_matrix.ConfusionMatrixDisplay at 0x7fdf40182640>"
      ]
     },
     "execution_count": 86,
     "metadata": {},
     "output_type": "execute_result"
    },
    {
     "data": {
      "image/png": "[encoded data removed]",
      "text/plain": [
       "<Figure size 640x480 with 2 Axes>"
      ]
     },
     "metadata": {},
     "output_type": "display_data"
    }
   ],
   "source": [
    "disp = ConfusionMatrixDisplay(confusion_matrix=cfm, display_labels= [\"REAL\", \"FAKE\"])\n",
    "disp.plot()"
   ]
  },
  {
   "cell_type": "code",
   "execution_count": 87,
   "metadata": {},
   "outputs": [
    {
     "name": "stdout",
     "output_type": "stream",
     "text": [
      "Model: \"sequential_7\"\n",
      "_________________________________________________________________\n",
      " Layer (type)                Output Shape              Param #   \n",
      "=================================================================\n",
      " conv3d_16 (Conv3D)          (None, 10, 30, 53, 64)    5248      \n",
      "                                                                 \n",
      " max_pooling3d_20 (MaxPoolin  (None, 5, 15, 27, 64)    0         \n",
      " g3D)                                                            \n",
      "                                                                 \n",
      " conv3d_17 (Conv3D)          (None, 5, 15, 27, 32)     55328     \n",
      "                                                                 \n",
      " max_pooling3d_21 (MaxPoolin  (None, 3, 8, 14, 32)     0         \n",
      " g3D)                                                            \n",
      "                                                                 \n",
      " conv3d_18 (Conv3D)          (None, 3, 8, 14, 16)      13840     \n",
      "                                                                 \n",
      " max_pooling3d_22 (MaxPoolin  (None, 2, 4, 7, 16)      0         \n",
      " g3D)                                                            \n",
      "                                                                 \n",
      " conv3d_19 (Conv3D)          (None, 2, 4, 7, 8)        3464      \n",
      "                                                                 \n",
      " max_pooling3d_23 (MaxPoolin  (None, 1, 2, 4, 8)       0         \n",
      " g3D)                                                            \n",
      "                                                                 \n",
      " flatten_7 (Flatten)         (None, 64)                0         \n",
      "                                                                 \n",
      " dense_14 (Dense)            (None, 128)               8320      \n",
      "                                                                 \n",
      " dense_15 (Dense)            (None, 2)                 258       \n",
      "                                                                 \n",
      "=================================================================\n",
      "Total params: 86,458\n",
      "Trainable params: 86,458\n",
      "Non-trainable params: 0\n",
      "_________________________________________________________________\n"
     ]
    }
   ],
   "source": [
    "model_3D_col = build_3D_model(vid_arr_col)\n",
    "model_3D_col.summary()"
   ]
  },
  {
   "cell_type": "code",
   "execution_count": 88,
   "metadata": {},
   "outputs": [],
   "source": [
    "loss = \"binary_crossentropy\"\n",
    "optimizer = keras.optimizers.Adam(learning_rate = 0.1)\n",
    "metrics=[\"accuracy\"]\n",
    "model_3D_col.compile(optimizer=optimizer, loss=loss, metrics=metrics)"
   ]
  },
  {
   "cell_type": "code",
   "execution_count": 89,
   "metadata": {},
   "outputs": [
    {
     "name": "stdout",
     "output_type": "stream",
     "text": [
      "Epoch 1/10\n",
      "10/10 - 37s - loss: 3485.9014 - accuracy: 0.6200 - 37s/epoch - 4s/step\n",
      "Epoch 2/10\n",
      "10/10 - 34s - loss: 0.5661 - accuracy: 0.8100 - 34s/epoch - 3s/step\n",
      "Epoch 3/10\n",
      "10/10 - 38s - loss: 0.5054 - accuracy: 0.8100 - 38s/epoch - 4s/step\n",
      "Epoch 4/10\n"
     ]
    },
    {
     "ename": "KeyboardInterrupt",
     "evalue": "",
     "output_type": "error",
     "traceback": [
      "\u001b[0;31m---------------------------------------------------------------------------\u001b[0m",
      "\u001b[0;31mKeyboardInterrupt\u001b[0m                         Traceback (most recent call last)",
      "Cell \u001b[0;32mIn[89], line 1\u001b[0m\n\u001b[0;32m----> 1\u001b[0m model_3D_col\u001b[39m.\u001b[39;49mfit(vid_arr_col, y[:vid_arr_col\u001b[39m.\u001b[39;49mshape[\u001b[39m0\u001b[39;49m]],epochs\u001b[39m=\u001b[39;49m\u001b[39m10\u001b[39;49m, batch_size\u001b[39m=\u001b[39;49m\u001b[39m10\u001b[39;49m, verbose\u001b[39m=\u001b[39;49m\u001b[39m2\u001b[39;49m)\n",
      "File \u001b[0;32m/Library/Frameworks/Python.framework/Versions/3.8/lib/python3.8/site-packages/keras/utils/traceback_utils.py:65\u001b[0m, in \u001b[0;36mfilter_traceback.<locals>.error_handler\u001b[0;34m(*args, **kwargs)\u001b[0m\n\u001b[1;32m     63\u001b[0m filtered_tb \u001b[39m=\u001b[39m \u001b[39mNone\u001b[39;00m\n\u001b[1;32m     64\u001b[0m \u001b[39mtry\u001b[39;00m:\n\u001b[0;32m---> 65\u001b[0m     \u001b[39mreturn\u001b[39;00m fn(\u001b[39m*\u001b[39;49margs, \u001b[39m*\u001b[39;49m\u001b[39m*\u001b[39;49mkwargs)\n\u001b[1;32m     66\u001b[0m \u001b[39mexcept\u001b[39;00m \u001b[39mException\u001b[39;00m \u001b[39mas\u001b[39;00m e:\n\u001b[1;32m     67\u001b[0m     filtered_tb \u001b[39m=\u001b[39m _process_traceback_frames(e\u001b[39m.\u001b[39m__traceback__)\n",
      "File \u001b[0;32m/Library/Frameworks/Python.framework/Versions/3.8/lib/python3.8/site-packages/keras/engine/training.py:1685\u001b[0m, in \u001b[0;36mModel.fit\u001b[0;34m(self, x, y, batch_size, epochs, verbose, callbacks, validation_split, validation_data, shuffle, class_weight, sample_weight, initial_epoch, steps_per_epoch, validation_steps, validation_batch_size, validation_freq, max_queue_size, workers, use_multiprocessing)\u001b[0m\n\u001b[1;32m   1677\u001b[0m \u001b[39mwith\u001b[39;00m tf\u001b[39m.\u001b[39mprofiler\u001b[39m.\u001b[39mexperimental\u001b[39m.\u001b[39mTrace(\n\u001b[1;32m   1678\u001b[0m     \u001b[39m\"\u001b[39m\u001b[39mtrain\u001b[39m\u001b[39m\"\u001b[39m,\n\u001b[1;32m   1679\u001b[0m     epoch_num\u001b[39m=\u001b[39mepoch,\n\u001b[0;32m   (...)\u001b[0m\n\u001b[1;32m   1682\u001b[0m     _r\u001b[39m=\u001b[39m\u001b[39m1\u001b[39m,\n\u001b[1;32m   1683\u001b[0m ):\n\u001b[1;32m   1684\u001b[0m     callbacks\u001b[39m.\u001b[39mon_train_batch_begin(step)\n\u001b[0;32m-> 1685\u001b[0m     tmp_logs \u001b[39m=\u001b[39m \u001b[39mself\u001b[39;49m\u001b[39m.\u001b[39;49mtrain_function(iterator)\n\u001b[1;32m   1686\u001b[0m     \u001b[39mif\u001b[39;00m data_handler\u001b[39m.\u001b[39mshould_sync:\n\u001b[1;32m   1687\u001b[0m         context\u001b[39m.\u001b[39masync_wait()\n",
      "File \u001b[0;32m/Library/Frameworks/Python.framework/Versions/3.8/lib/python3.8/site-packages/tensorflow/python/util/traceback_utils.py:150\u001b[0m, in \u001b[0;36mfilter_traceback.<locals>.error_handler\u001b[0;34m(*args, **kwargs)\u001b[0m\n\u001b[1;32m    148\u001b[0m filtered_tb \u001b[39m=\u001b[39m \u001b[39mNone\u001b[39;00m\n\u001b[1;32m    149\u001b[0m \u001b[39mtry\u001b[39;00m:\n\u001b[0;32m--> 150\u001b[0m   \u001b[39mreturn\u001b[39;00m fn(\u001b[39m*\u001b[39;49margs, \u001b[39m*\u001b[39;49m\u001b[39m*\u001b[39;49mkwargs)\n\u001b[1;32m    151\u001b[0m \u001b[39mexcept\u001b[39;00m \u001b[39mException\u001b[39;00m \u001b[39mas\u001b[39;00m e:\n\u001b[1;32m    152\u001b[0m   filtered_tb \u001b[39m=\u001b[39m _process_traceback_frames(e\u001b[39m.\u001b[39m__traceback__)\n",
      "File \u001b[0;32m/Library/Frameworks/Python.framework/Versions/3.8/lib/python3.8/site-packages/tensorflow/python/eager/polymorphic_function/polymorphic_function.py:894\u001b[0m, in \u001b[0;36mFunction.__call__\u001b[0;34m(self, *args, **kwds)\u001b[0m\n\u001b[1;32m    891\u001b[0m compiler \u001b[39m=\u001b[39m \u001b[39m\"\u001b[39m\u001b[39mxla\u001b[39m\u001b[39m\"\u001b[39m \u001b[39mif\u001b[39;00m \u001b[39mself\u001b[39m\u001b[39m.\u001b[39m_jit_compile \u001b[39melse\u001b[39;00m \u001b[39m\"\u001b[39m\u001b[39mnonXla\u001b[39m\u001b[39m\"\u001b[39m\n\u001b[1;32m    893\u001b[0m \u001b[39mwith\u001b[39;00m OptionalXlaContext(\u001b[39mself\u001b[39m\u001b[39m.\u001b[39m_jit_compile):\n\u001b[0;32m--> 894\u001b[0m   result \u001b[39m=\u001b[39m \u001b[39mself\u001b[39;49m\u001b[39m.\u001b[39;49m_call(\u001b[39m*\u001b[39;49margs, \u001b[39m*\u001b[39;49m\u001b[39m*\u001b[39;49mkwds)\n\u001b[1;32m    896\u001b[0m new_tracing_count \u001b[39m=\u001b[39m \u001b[39mself\u001b[39m\u001b[39m.\u001b[39mexperimental_get_tracing_count()\n\u001b[1;32m    897\u001b[0m without_tracing \u001b[39m=\u001b[39m (tracing_count \u001b[39m==\u001b[39m new_tracing_count)\n",
      "File \u001b[0;32m/Library/Frameworks/Python.framework/Versions/3.8/lib/python3.8/site-packages/tensorflow/python/eager/polymorphic_function/polymorphic_function.py:926\u001b[0m, in \u001b[0;36mFunction._call\u001b[0;34m(self, *args, **kwds)\u001b[0m\n\u001b[1;32m    923\u001b[0m   \u001b[39mself\u001b[39m\u001b[39m.\u001b[39m_lock\u001b[39m.\u001b[39mrelease()\n\u001b[1;32m    924\u001b[0m   \u001b[39m# In this case we have created variables on the first call, so we run the\u001b[39;00m\n\u001b[1;32m    925\u001b[0m   \u001b[39m# defunned version which is guaranteed to never create variables.\u001b[39;00m\n\u001b[0;32m--> 926\u001b[0m   \u001b[39mreturn\u001b[39;00m \u001b[39mself\u001b[39;49m\u001b[39m.\u001b[39;49m_no_variable_creation_fn(\u001b[39m*\u001b[39;49margs, \u001b[39m*\u001b[39;49m\u001b[39m*\u001b[39;49mkwds)  \u001b[39m# pylint: disable=not-callable\u001b[39;00m\n\u001b[1;32m    927\u001b[0m \u001b[39melif\u001b[39;00m \u001b[39mself\u001b[39m\u001b[39m.\u001b[39m_variable_creation_fn \u001b[39mis\u001b[39;00m \u001b[39mnot\u001b[39;00m \u001b[39mNone\u001b[39;00m:\n\u001b[1;32m    928\u001b[0m   \u001b[39m# Release the lock early so that multiple threads can perform the call\u001b[39;00m\n\u001b[1;32m    929\u001b[0m   \u001b[39m# in parallel.\u001b[39;00m\n\u001b[1;32m    930\u001b[0m   \u001b[39mself\u001b[39m\u001b[39m.\u001b[39m_lock\u001b[39m.\u001b[39mrelease()\n",
      "File \u001b[0;32m/Library/Frameworks/Python.framework/Versions/3.8/lib/python3.8/site-packages/tensorflow/python/eager/polymorphic_function/tracing_compiler.py:143\u001b[0m, in \u001b[0;36mTracingCompiler.__call__\u001b[0;34m(self, *args, **kwargs)\u001b[0m\n\u001b[1;32m    140\u001b[0m \u001b[39mwith\u001b[39;00m \u001b[39mself\u001b[39m\u001b[39m.\u001b[39m_lock:\n\u001b[1;32m    141\u001b[0m   (concrete_function,\n\u001b[1;32m    142\u001b[0m    filtered_flat_args) \u001b[39m=\u001b[39m \u001b[39mself\u001b[39m\u001b[39m.\u001b[39m_maybe_define_function(args, kwargs)\n\u001b[0;32m--> 143\u001b[0m \u001b[39mreturn\u001b[39;00m concrete_function\u001b[39m.\u001b[39;49m_call_flat(\n\u001b[1;32m    144\u001b[0m     filtered_flat_args, captured_inputs\u001b[39m=\u001b[39;49mconcrete_function\u001b[39m.\u001b[39;49mcaptured_inputs)\n",
      "File \u001b[0;32m/Library/Frameworks/Python.framework/Versions/3.8/lib/python3.8/site-packages/tensorflow/python/eager/polymorphic_function/monomorphic_function.py:1757\u001b[0m, in \u001b[0;36mConcreteFunction._call_flat\u001b[0;34m(self, args, captured_inputs, cancellation_manager)\u001b[0m\n\u001b[1;32m   1753\u001b[0m possible_gradient_type \u001b[39m=\u001b[39m gradients_util\u001b[39m.\u001b[39mPossibleTapeGradientTypes(args)\n\u001b[1;32m   1754\u001b[0m \u001b[39mif\u001b[39;00m (possible_gradient_type \u001b[39m==\u001b[39m gradients_util\u001b[39m.\u001b[39mPOSSIBLE_GRADIENT_TYPES_NONE\n\u001b[1;32m   1755\u001b[0m     \u001b[39mand\u001b[39;00m executing_eagerly):\n\u001b[1;32m   1756\u001b[0m   \u001b[39m# No tape is watching; skip to running the function.\u001b[39;00m\n\u001b[0;32m-> 1757\u001b[0m   \u001b[39mreturn\u001b[39;00m \u001b[39mself\u001b[39m\u001b[39m.\u001b[39m_build_call_outputs(\u001b[39mself\u001b[39;49m\u001b[39m.\u001b[39;49m_inference_function\u001b[39m.\u001b[39;49mcall(\n\u001b[1;32m   1758\u001b[0m       ctx, args, cancellation_manager\u001b[39m=\u001b[39;49mcancellation_manager))\n\u001b[1;32m   1759\u001b[0m forward_backward \u001b[39m=\u001b[39m \u001b[39mself\u001b[39m\u001b[39m.\u001b[39m_select_forward_and_backward_functions(\n\u001b[1;32m   1760\u001b[0m     args,\n\u001b[1;32m   1761\u001b[0m     possible_gradient_type,\n\u001b[1;32m   1762\u001b[0m     executing_eagerly)\n\u001b[1;32m   1763\u001b[0m forward_function, args_with_tangents \u001b[39m=\u001b[39m forward_backward\u001b[39m.\u001b[39mforward()\n",
      "File \u001b[0;32m/Library/Frameworks/Python.framework/Versions/3.8/lib/python3.8/site-packages/tensorflow/python/eager/polymorphic_function/monomorphic_function.py:381\u001b[0m, in \u001b[0;36m_EagerDefinedFunction.call\u001b[0;34m(self, ctx, args, cancellation_manager)\u001b[0m\n\u001b[1;32m    379\u001b[0m \u001b[39mwith\u001b[39;00m _InterpolateFunctionError(\u001b[39mself\u001b[39m):\n\u001b[1;32m    380\u001b[0m   \u001b[39mif\u001b[39;00m cancellation_manager \u001b[39mis\u001b[39;00m \u001b[39mNone\u001b[39;00m:\n\u001b[0;32m--> 381\u001b[0m     outputs \u001b[39m=\u001b[39m execute\u001b[39m.\u001b[39;49mexecute(\n\u001b[1;32m    382\u001b[0m         \u001b[39mstr\u001b[39;49m(\u001b[39mself\u001b[39;49m\u001b[39m.\u001b[39;49msignature\u001b[39m.\u001b[39;49mname),\n\u001b[1;32m    383\u001b[0m         num_outputs\u001b[39m=\u001b[39;49m\u001b[39mself\u001b[39;49m\u001b[39m.\u001b[39;49m_num_outputs,\n\u001b[1;32m    384\u001b[0m         inputs\u001b[39m=\u001b[39;49margs,\n\u001b[1;32m    385\u001b[0m         attrs\u001b[39m=\u001b[39;49mattrs,\n\u001b[1;32m    386\u001b[0m         ctx\u001b[39m=\u001b[39;49mctx)\n\u001b[1;32m    387\u001b[0m   \u001b[39melse\u001b[39;00m:\n\u001b[1;32m    388\u001b[0m     outputs \u001b[39m=\u001b[39m execute\u001b[39m.\u001b[39mexecute_with_cancellation(\n\u001b[1;32m    389\u001b[0m         \u001b[39mstr\u001b[39m(\u001b[39mself\u001b[39m\u001b[39m.\u001b[39msignature\u001b[39m.\u001b[39mname),\n\u001b[1;32m    390\u001b[0m         num_outputs\u001b[39m=\u001b[39m\u001b[39mself\u001b[39m\u001b[39m.\u001b[39m_num_outputs,\n\u001b[0;32m   (...)\u001b[0m\n\u001b[1;32m    393\u001b[0m         ctx\u001b[39m=\u001b[39mctx,\n\u001b[1;32m    394\u001b[0m         cancellation_manager\u001b[39m=\u001b[39mcancellation_manager)\n",
      "File \u001b[0;32m/Library/Frameworks/Python.framework/Versions/3.8/lib/python3.8/site-packages/tensorflow/python/eager/execute.py:52\u001b[0m, in \u001b[0;36mquick_execute\u001b[0;34m(op_name, num_outputs, inputs, attrs, ctx, name)\u001b[0m\n\u001b[1;32m     50\u001b[0m \u001b[39mtry\u001b[39;00m:\n\u001b[1;32m     51\u001b[0m   ctx\u001b[39m.\u001b[39mensure_initialized()\n\u001b[0;32m---> 52\u001b[0m   tensors \u001b[39m=\u001b[39m pywrap_tfe\u001b[39m.\u001b[39;49mTFE_Py_Execute(ctx\u001b[39m.\u001b[39;49m_handle, device_name, op_name,\n\u001b[1;32m     53\u001b[0m                                       inputs, attrs, num_outputs)\n\u001b[1;32m     54\u001b[0m \u001b[39mexcept\u001b[39;00m core\u001b[39m.\u001b[39m_NotOkStatusException \u001b[39mas\u001b[39;00m e:\n\u001b[1;32m     55\u001b[0m   \u001b[39mif\u001b[39;00m name \u001b[39mis\u001b[39;00m \u001b[39mnot\u001b[39;00m \u001b[39mNone\u001b[39;00m:\n",
      "\u001b[0;31mKeyboardInterrupt\u001b[0m: "
     ]
    }
   ],
   "source": [
    "model_3D_col.fit(vid_arr_col, y[:vid_arr_col.shape[0]],epochs=10, batch_size=10, verbose=2)"
   ]
  }
 ],
 "metadata": {
  "kernelspec": {
   "display_name": "Python 3",
   "language": "python",
   "name": "python3"
  },
  "language_info": {
   "codemirror_mode": {
    "name": "ipython",
    "version": 3
   },
   "file_extension": ".py",
   "mimetype": "text/x-python",
   "name": "python",
   "nbconvert_exporter": "python",
   "pygments_lexer": "ipython3",
   "version": "3.8.5"
  },
  "orig_nbformat": 4,
  "vscode": {
   "interpreter": {
    "hash": "e7370f93d1d0cde622a1f8e1c04877d8463912d04d973331ad4851f04de6915a"
   }
  }
 },
 "nbformat": 4,
 "nbformat_minor": 2
}
